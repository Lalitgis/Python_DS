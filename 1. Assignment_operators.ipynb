{
 "cells": [
  {
   "cell_type": "markdown",
   "id": "4d82ccd7",
   "metadata": {},
   "source": [
    "## 💻 Exercises ➞ <span class='label label-default'>Operators</span>\n",
    "\n",
    "1. Declare your age as integer variable\n",
    "2. Declare your height as a float variable\n",
    "3. Declare a variable that store a complex number\n",
    "4. Write a code that prompts the user to enter base and height of the triangle and calculate an area of this triangle (area = 0.5 x b x h).\n",
    "\n",
    "```py\n",
    "    Enter base: 20\n",
    "    Enter height: 10\n",
    "    The area of the triangle is 100\n",
    "```\n",
    "\n",
    "5. Write a code that prompts the user to enter side a, side b, and side c of the triangle. Calculate the perimeter of the triangle (perimeter = a + b + c).\n",
    "\n",
    "```py\n",
    "Enter side a: 5\n",
    "Enter side b: 4\n",
    "Enter side c: 3\n",
    "The perimeter of the triangle is 12\n",
    "```\n",
    "\n",
    "6. Get length and width of a rectangle using prompt. Calculate its area (**area = length x width**) and perimeter (**perimeter = 2 x (length + width)**)\n",
    "7. Get radius of a circle using prompt. Calculate the area (**area = pi x r x r**) and circumference (**c = 2 x pi x r**) where pi = 3.14.\n",
    "8. Calculate the slope, x-intercept and y-intercept of $y = 2x -2$\n",
    "9. Slope is ($m = (y2-y1)/(x2-x1)$). Find the slope and **[Euclidean distance](https://en.wikipedia.org/wiki/Euclidean_distance#:~:text=In%20mathematics%2C%20the%20Euclidean%20distance,being%20called%20the%20Pythagorean%20distance.)** between point (2, 2) and point (6,10) \n",
    "10. Compare the slopes in tasks 8 and 9.\n",
    "11. Calculate the value of y ($y = x^2 + 6x + 9$). Try to use different x values and figure out at what x value y is going to be 0.\n",
    "12. Find the length of **`'python'`** and **`'datascience'`** and make a falsy comparison statement.\n",
    "13. Use **`and`** operator to check if **`on`** is found in both **`python`** and **`cannon`**\n",
    "14. **`I hope this course is not full of jargon`**. Use **`in`** operator to check if **`jargon`** is in the sentence.\n",
    "15. There is no **`on`** in both **`python`** and **`cannon`**\n",
    "16. Find the length of the text **`python`** and convert the value to float and convert it to string\n",
    "17. Even numbers are divisible by 2 and the remainder is zero. How do you check if a number is even or not using python?\n",
    "18. Check if the floor division of 7 by 3 is equal to the int converted value of 2.7.\n",
    "19. Check if type of **\"10\"** is equal to type of 10\n",
    "20. Check if int(**\"9.6\"**) is equal to 10\n",
    "21. Write a code that prompts the user to enter hours and rate per hour. Calculate pay of the person?\n",
    "\n",
    "```py\n",
    "Enter hours: 40\n",
    "Enter rate per hour: 30\n",
    "Your weekly earning is 1200\n",
    "```\n",
    "\n",
    "22. Write a script that prompts the user to enter number of years. Calculate the number of seconds a person can live. Assume a person can live hundred years\n",
    "\n",
    "```py\n",
    "Enter number of years you have lived: 100\n",
    "You have lived for 3153600000 seconds.\n",
    "```\n",
    "\n",
    "23. Write a Python code that displays the following table\n",
    "\n",
    "```py\n",
    "1 2 3 4 5  \n",
    "2 4 6 8 10\n",
    "3 6 9 12 15\n",
    "4 8 12 16 20\n",
    "5 10 15 20 25\n",
    "```"
   ]
  },
  {
   "cell_type": "markdown",
   "id": "583aa7b7",
   "metadata": {},
   "source": [
    "1.Declare your age as integer variable"
   ]
  },
  {
   "cell_type": "code",
   "execution_count": 3,
   "id": "1e8b5d32",
   "metadata": {},
   "outputs": [
    {
     "name": "stdout",
     "output_type": "stream",
     "text": [
      "<class 'int'>\n"
     ]
    }
   ],
   "source": [
    "age = int(27) #My age has been decleared as integer\n",
    "print(type(age))"
   ]
  },
  {
   "cell_type": "markdown",
   "id": "c733c2e3",
   "metadata": {},
   "source": [
    "2. Declear your height as float"
   ]
  },
  {
   "cell_type": "code",
   "execution_count": 4,
   "id": "866df985",
   "metadata": {},
   "outputs": [
    {
     "name": "stdout",
     "output_type": "stream",
     "text": [
      "<class 'float'>\n"
     ]
    }
   ],
   "source": [
    "height = float(5.4)\n",
    "print(type(height))"
   ]
  },
  {
   "cell_type": "markdown",
   "id": "9915d63a",
   "metadata": {},
   "source": [
    "3. Declear a variable that stores complex number"
   ]
  },
  {
   "cell_type": "code",
   "execution_count": 6,
   "id": "169a4ef9",
   "metadata": {},
   "outputs": [
    {
     "name": "stdout",
     "output_type": "stream",
     "text": [
      "<class 'complex'>\n"
     ]
    }
   ],
   "source": [
    "complx = complex('3+7j')\n",
    "print(type(complx))"
   ]
  },
  {
   "cell_type": "markdown",
   "id": "b3c9e508",
   "metadata": {},
   "source": [
    "4. Write a code that prompts the user to enter base and height of the triangle and calculate an area /\n",
    "of this triangle (area = 0.5 x b x h)."
   ]
  },
  {
   "cell_type": "code",
   "execution_count": 1,
   "id": "9ccb0514",
   "metadata": {},
   "outputs": [],
   "source": [
    "h = float(input(\"Enter height: \"))\n",
    "b = float(input(\"Enter base: \"))\n",
    "area = 0.5 * h*b\n",
    "# print(f\"The area of triangle is:\", area)\n",
    "print(f\"The area of a triangle is: {area}\")"
   ]
  },
  {
   "cell_type": "markdown",
   "id": "291be083",
   "metadata": {},
   "source": [
    "5. Write a code that prompts the user to enter side a, side b, and side c of the triangle. Calculate the perimeter of the triangle (perimeter = a + b + c)"
   ]
  },
  {
   "cell_type": "code",
   "execution_count": 21,
   "id": "05b2a712",
   "metadata": {},
   "outputs": [
    {
     "name": "stdout",
     "output_type": "stream",
     "text": [
      "Enter side a: 5\n",
      "Enter side b: 4\n",
      "Enter side c: 3\n",
      "The perimeter of triangle is:  12\n"
     ]
    }
   ],
   "source": [
    "a = int(input(\"Enter side a: \"))\n",
    "b = int(input(\"Enter side b: \"))\n",
    "c = int(input(\"Enter side c: \"))\n",
    "perimeter = a+b+c\n",
    "\n",
    "print(\"The perimeter of triangle is: \", perimeter)"
   ]
  },
  {
   "cell_type": "markdown",
   "id": "a3af17d0",
   "metadata": {},
   "source": [
    "6.Get length and width of a rectangle using prompt. Calculate its area (area = length x width) and perimeter (perimeter = 2 x (length + width))"
   ]
  },
  {
   "cell_type": "code",
   "execution_count": 25,
   "id": "d31bfae7",
   "metadata": {},
   "outputs": [
    {
     "name": "stdout",
     "output_type": "stream",
     "text": [
      "Enter the length: 2\n",
      "Enter the width:2\n",
      "4\n",
      "8\n"
     ]
    }
   ],
   "source": [
    "length = int(input(\"Enter the length: \"))\n",
    "width = int(input(\"Enter the width:\"))\n",
    "area = length*width\n",
    "perimeter = 2*(length + width)\n",
    "\n",
    "print(area)\n",
    "print(perimeter)"
   ]
  },
  {
   "cell_type": "markdown",
   "id": "a78a722d",
   "metadata": {},
   "source": [
    "7.Get radius of a circle using prompt. Calculate the area (area = pi x r x r) and circumference (c = 2 x pi x r) where pi = 3.14."
   ]
  },
  {
   "cell_type": "code",
   "execution_count": 27,
   "id": "3beaa1e1",
   "metadata": {},
   "outputs": [
    {
     "name": "stdout",
     "output_type": "stream",
     "text": [
      "Enter r:2\n",
      "12.56\n"
     ]
    }
   ],
   "source": [
    "r = int(input(\"Enter r:\"))\n",
    "pi = 3.14\n",
    "\n",
    "area = pi*r*r\n",
    "c = 2*pi*r\n",
    "print(area)\n",
    "print(c)"
   ]
  },
  {
   "cell_type": "markdown",
   "id": "26cf289f",
   "metadata": {},
   "source": [
    "8.Calculate the slope, x-intercept and y-intercept of  𝑦=2𝑥−2"
   ]
  },
  {
   "cell_type": "code",
   "execution_count": 4,
   "id": "9560628f",
   "metadata": {},
   "outputs": [
    {
     "name": "stdout",
     "output_type": "stream",
     "text": [
      "Slope: 2\n",
      "X-intercept: 1.0\n",
      "Y-intercept: -2\n"
     ]
    }
   ],
   "source": [
    "# Equation: y = 2x - 2\n",
    "\n",
    "# Slope (m)\n",
    "slope = 2\n",
    "\n",
    "# Y-intercept (b)\n",
    "y_intercept = -2\n",
    "\n",
    "# X-intercept\n",
    "x_intercept = -y_intercept / slope\n",
    "\n",
    "print(\"Slope:\", slope)\n",
    "print(\"X-intercept:\", x_intercept)\n",
    "print(\"Y-intercept:\", y_intercept)\n"
   ]
  },
  {
   "cell_type": "markdown",
   "id": "e886497f",
   "metadata": {},
   "source": [
    "9. Slope is ( 𝑚=(𝑦2−𝑦1)/(𝑥2−𝑥1)\n",
    " ). Find the slope and Euclidean distance between point (2, 2) and point (6,10)"
   ]
  },
  {
   "cell_type": "code",
   "execution_count": 16,
   "id": "19fb0fa0",
   "metadata": {},
   "outputs": [
    {
     "name": "stdout",
     "output_type": "stream",
     "text": [
      "2.0\n",
      "8.94427190999916\n"
     ]
    }
   ],
   "source": [
    "m = (10-2)/(6-2)\n",
    "slope2 = m\n",
    "print(slope2)\n",
    "import math\n",
    "distace = math.sqrt((6-2)**2+(10-2)**2)\n",
    "print(distace)"
   ]
  },
  {
   "cell_type": "markdown",
   "id": "53b48e14",
   "metadata": {},
   "source": [
    "10. Compare the slope of 8 & 9"
   ]
  },
  {
   "cell_type": "code",
   "execution_count": 17,
   "id": "1af3b69b",
   "metadata": {},
   "outputs": [
    {
     "data": {
      "text/plain": [
       "True"
      ]
     },
     "execution_count": 17,
     "metadata": {},
     "output_type": "execute_result"
    }
   ],
   "source": [
    " slope2==m"
   ]
  },
  {
   "cell_type": "markdown",
   "id": "e6c749e3",
   "metadata": {},
   "source": [
    "11.Calculate the value of y ( 𝑦=𝑥2+6𝑥+9\n",
    " ). Try to use different x values and figure out at what x value y is going to be 0."
   ]
  },
  {
   "cell_type": "code",
   "execution_count": 34,
   "id": "b1a15f8d",
   "metadata": {},
   "outputs": [
    {
     "name": "stdout",
     "output_type": "stream",
     "text": [
      "0\n"
     ]
    }
   ],
   "source": [
    "y = x**2+6*x+9\n",
    "x = -3\n",
    "print(y)"
   ]
  },
  {
   "cell_type": "markdown",
   "id": "c999d1f7",
   "metadata": {},
   "source": [
    "12.Find the length of 'python' and 'datascience' and make a falsy comparison statement."
   ]
  },
  {
   "cell_type": "code",
   "execution_count": 37,
   "id": "ac63d567",
   "metadata": {},
   "outputs": [
    {
     "data": {
      "text/plain": [
       "False"
      ]
     },
     "execution_count": 37,
     "metadata": {},
     "output_type": "execute_result"
    }
   ],
   "source": [
    "x =len('python')\n",
    "y = len('datascience')\n",
    "\n",
    "x==y"
   ]
  },
  {
   "cell_type": "markdown",
   "id": "874718db",
   "metadata": {},
   "source": [
    "13.Use and operator to check if on is found in both python and cannon"
   ]
  },
  {
   "cell_type": "code",
   "execution_count": 45,
   "id": "aa98defc",
   "metadata": {},
   "outputs": [
    {
     "ename": "TypeError",
     "evalue": "unsupported operand type(s) for &: 'str' and 'str'",
     "output_type": "error",
     "traceback": [
      "\u001b[1;31m---------------------------------------------------------------------------\u001b[0m",
      "\u001b[1;31mTypeError\u001b[0m                                 Traceback (most recent call last)",
      "\u001b[1;32m~\\AppData\\Local\\Temp\\ipykernel_9188\\2520828731.py\u001b[0m in \u001b[0;36m<module>\u001b[1;34m\u001b[0m\n\u001b[1;32m----> 1\u001b[1;33m \u001b[1;34m'on'\u001b[0m \u001b[1;32min\u001b[0m \u001b[1;34m'python'\u001b[0m \u001b[1;33m&\u001b[0m \u001b[1;34m'cannon'\u001b[0m\u001b[1;33m\u001b[0m\u001b[1;33m\u001b[0m\u001b[0m\n\u001b[0m",
      "\u001b[1;31mTypeError\u001b[0m: unsupported operand type(s) for &: 'str' and 'str'"
     ]
    }
   ],
   "source": [
    "# couldn't solve "
   ]
  },
  {
   "cell_type": "markdown",
   "id": "4a342ac6",
   "metadata": {},
   "source": [
    "14. I hope this course is not full of jargon. Use in operator to check if jargon is in the sentence."
   ]
  },
  {
   "cell_type": "code",
   "execution_count": 46,
   "id": "51ce2bb8",
   "metadata": {},
   "outputs": [
    {
     "data": {
      "text/plain": [
       "True"
      ]
     },
     "execution_count": 46,
     "metadata": {},
     "output_type": "execute_result"
    }
   ],
   "source": [
    "x = 'I hope this course is not full of jargon.'\n",
    "'jargon' in x"
   ]
  },
  {
   "cell_type": "markdown",
   "id": "d89aea01",
   "metadata": {},
   "source": [
    "15. There is no on in both python and cannon"
   ]
  },
  {
   "cell_type": "code",
   "execution_count": 49,
   "id": "04d03960",
   "metadata": {},
   "outputs": [
    {
     "name": "stderr",
     "output_type": "stream",
     "text": [
      "<>:4: SyntaxWarning: \"is not\" with a literal. Did you mean \"!=\"?\n",
      "<>:4: SyntaxWarning: \"is not\" with a literal. Did you mean \"!=\"?\n",
      "C:\\Users\\pavilion\\AppData\\Local\\Temp\\ipykernel_9188\\959886363.py:4: SyntaxWarning: \"is not\" with a literal. Did you mean \"!=\"?\n",
      "  'on' is not x and y\n"
     ]
    },
    {
     "data": {
      "text/plain": [
       "'cannon'"
      ]
     },
     "execution_count": 49,
     "metadata": {},
     "output_type": "execute_result"
    }
   ],
   "source": [
    "x = 'python'\n",
    "y = 'cannon'\n",
    "\n",
    "'on' is not x and y"
   ]
  },
  {
   "cell_type": "markdown",
   "id": "fc39c8e9",
   "metadata": {},
   "source": [
    "16.Find the length of the text python and convert the value to float and convert it to string"
   ]
  },
  {
   "cell_type": "code",
   "execution_count": 57,
   "id": "ed66d3b5",
   "metadata": {},
   "outputs": [
    {
     "data": {
      "text/plain": [
       "'6.0'"
      ]
     },
     "execution_count": 57,
     "metadata": {},
     "output_type": "execute_result"
    }
   ],
   "source": [
    "x = 'python'\n",
    "len(x)\n",
    "(float(6))\n",
    "str(6.0)"
   ]
  },
  {
   "cell_type": "markdown",
   "id": "fa2b2b7f",
   "metadata": {},
   "source": [
    "17.Even numbers are divisible by 2 and the remainder is zero. How do you check if a number is even or not using python?"
   ]
  },
  {
   "cell_type": "code",
   "execution_count": 1,
   "id": "55c0cce7",
   "metadata": {
    "scrolled": true
   },
   "outputs": [],
   "source": [
    "X = \"number\"\n",
    "if x% 2 == 0:\n",
    "    print(\"it's an even number\")\n",
    "else:\n",
    "    print(\"it's not a even number\")\n"
   ]
  },
  {
   "cell_type": "markdown",
   "id": "1581de59",
   "metadata": {},
   "source": [
    "18. Check if the floor division of 7 by 3 is equal to the int converted value of 2.7."
   ]
  },
  {
   "cell_type": "code",
   "execution_count": 62,
   "id": "c1542e3e",
   "metadata": {},
   "outputs": [
    {
     "data": {
      "text/plain": [
       "2.3333333333333335"
      ]
     },
     "execution_count": 62,
     "metadata": {},
     "output_type": "execute_result"
    }
   ],
   "source": [
    "7/3"
   ]
  },
  {
   "cell_type": "markdown",
   "id": "b787d7a5",
   "metadata": {},
   "source": [
    "19. Check if type of \"10\" is equal to type of 10"
   ]
  },
  {
   "cell_type": "code",
   "execution_count": 63,
   "id": "633e3d79",
   "metadata": {},
   "outputs": [
    {
     "data": {
      "text/plain": [
       "False"
      ]
     },
     "execution_count": 63,
     "metadata": {},
     "output_type": "execute_result"
    }
   ],
   "source": [
    "type(\"10\") == type(10)"
   ]
  },
  {
   "cell_type": "markdown",
   "id": "309ffaef",
   "metadata": {},
   "source": [
    "20. Check if int(\"9.6\") is equal to 10"
   ]
  },
  {
   "cell_type": "code",
   "execution_count": 64,
   "id": "6f43f956",
   "metadata": {},
   "outputs": [
    {
     "ename": "ValueError",
     "evalue": "invalid literal for int() with base 10: '9.6'",
     "output_type": "error",
     "traceback": [
      "\u001b[1;31m---------------------------------------------------------------------------\u001b[0m",
      "\u001b[1;31mValueError\u001b[0m                                Traceback (most recent call last)",
      "\u001b[1;32m~\\AppData\\Local\\Temp\\ipykernel_9188\\1427887522.py\u001b[0m in \u001b[0;36m<module>\u001b[1;34m\u001b[0m\n\u001b[1;32m----> 1\u001b[1;33m \u001b[0mint\u001b[0m\u001b[1;33m(\u001b[0m\u001b[1;34m\"9.6\"\u001b[0m\u001b[1;33m)\u001b[0m \u001b[1;33m==\u001b[0m \u001b[1;36m10\u001b[0m\u001b[1;33m\u001b[0m\u001b[1;33m\u001b[0m\u001b[0m\n\u001b[0m",
      "\u001b[1;31mValueError\u001b[0m: invalid literal for int() with base 10: '9.6'"
     ]
    }
   ],
   "source": [
    "int(\"9.6\") == 10"
   ]
  },
  {
   "cell_type": "markdown",
   "id": "1f5a6a71",
   "metadata": {},
   "source": [
    "21.Write a code that prompts the user to enter hours and rate per hour. Calculate pay of the person?"
   ]
  },
  {
   "cell_type": "code",
   "execution_count": 65,
   "id": "bd26ce8a",
   "metadata": {},
   "outputs": [
    {
     "name": "stdout",
     "output_type": "stream",
     "text": [
      "Enter housrs: 20\n",
      "Enter rate per hours: 45\n",
      "Your weekly earning is:  900\n"
     ]
    }
   ],
   "source": [
    "x = int(input(\"Enter housrs: \"))\n",
    "y = int(input(\"Enter rate per hours: \"))\n",
    "Earning = x * y\n",
    "\n",
    "print(\"Your weekly earning is: \", Earning)"
   ]
  },
  {
   "cell_type": "markdown",
   "id": "acfb7592",
   "metadata": {},
   "source": [
    "22.Write a script that prompts the user to enter number of years. Calculate the number of seconds a person can live. Assume a person can live hundred years"
   ]
  },
  {
   "cell_type": "code",
   "execution_count": 69,
   "id": "f63f6e35",
   "metadata": {},
   "outputs": [
    {
     "name": "stdout",
     "output_type": "stream",
     "text": [
      "Enter numbers of years: 100\n",
      "The numbers of second you live is: 3214080000\n"
     ]
    }
   ],
   "source": [
    "years = int(input(\"Enter numbers of years: \"))\n",
    "Second = years*12*31*24*60*60\n",
    "\n",
    "print( \"The numbers of second you live is:\", Second)"
   ]
  },
  {
   "cell_type": "markdown",
   "id": "3e675d9d",
   "metadata": {},
   "source": [
    "23. Write a Python code that displays the following table"
   ]
  },
  {
   "cell_type": "code",
   "execution_count": 2,
   "id": "53dce51b",
   "metadata": {},
   "outputs": [
    {
     "name": "stdout",
     "output_type": "stream",
     "text": [
      "1 2 3 4 5 \n",
      "2 4 6 8 10 \n",
      "3 6 9 12 15 \n",
      "4 8 12 16 20 \n",
      "5 10 15 20 25 \n"
     ]
    }
   ],
   "source": [
    "for i in range(1, 6):\n",
    "    for j in range(1, 6):\n",
    "        print(i * j, end=\" \")\n",
    "    print()\n",
    "# I take help from internet to solve this problem"
   ]
  },
  {
   "cell_type": "code",
   "execution_count": null,
   "id": "60b4dfa1",
   "metadata": {},
   "outputs": [],
   "source": []
  },
  {
   "cell_type": "code",
   "execution_count": null,
   "id": "6d74382c",
   "metadata": {},
   "outputs": [],
   "source": []
  },
  {
   "cell_type": "code",
   "execution_count": null,
   "id": "66ecfcb2",
   "metadata": {},
   "outputs": [],
   "source": []
  },
  {
   "cell_type": "code",
   "execution_count": null,
   "id": "38ad0882",
   "metadata": {},
   "outputs": [],
   "source": []
  },
  {
   "cell_type": "code",
   "execution_count": null,
   "id": "75942cc6",
   "metadata": {},
   "outputs": [],
   "source": []
  },
  {
   "cell_type": "code",
   "execution_count": null,
   "id": "ceafe391",
   "metadata": {},
   "outputs": [],
   "source": []
  },
  {
   "cell_type": "code",
   "execution_count": null,
   "id": "f08690a6",
   "metadata": {},
   "outputs": [],
   "source": []
  },
  {
   "cell_type": "code",
   "execution_count": null,
   "id": "467c25ae",
   "metadata": {},
   "outputs": [],
   "source": []
  },
  {
   "cell_type": "code",
   "execution_count": null,
   "id": "d82d7e78",
   "metadata": {},
   "outputs": [],
   "source": []
  },
  {
   "cell_type": "code",
   "execution_count": null,
   "id": "2d924f56",
   "metadata": {},
   "outputs": [],
   "source": []
  }
 ],
 "metadata": {
  "kernelspec": {
   "display_name": "Python 3 (ipykernel)",
   "language": "python",
   "name": "python3"
  },
  "language_info": {
   "codemirror_mode": {
    "name": "ipython",
    "version": 3
   },
   "file_extension": ".py",
   "mimetype": "text/x-python",
   "name": "python",
   "nbconvert_exporter": "python",
   "pygments_lexer": "ipython3",
   "version": "3.9.13"
  }
 },
 "nbformat": 4,
 "nbformat_minor": 5
}
