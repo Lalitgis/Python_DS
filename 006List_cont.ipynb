{
 "cells": [
  {
   "cell_type": "code",
   "execution_count": 4,
   "id": "81fcb108",
   "metadata": {},
   "outputs": [
    {
     "name": "stdout",
     "output_type": "stream",
     "text": [
      "[1, 2, 3, 4, 5, 5]\n"
     ]
    }
   ],
   "source": [
    "l = [1,2,3,4,5]\n",
    "l.append(5)\n",
    "print(l)"
   ]
  },
  {
   "cell_type": "code",
   "execution_count": 6,
   "id": "3810abdd",
   "metadata": {},
   "outputs": [
    {
     "name": "stdout",
     "output_type": "stream",
     "text": [
      "[]\n"
     ]
    }
   ],
   "source": [
    "l.clear()\n",
    "print(l)"
   ]
  },
  {
   "cell_type": "code",
   "execution_count": 7,
   "id": "595d7cdc",
   "metadata": {},
   "outputs": [],
   "source": [
    "l = [1,2,3,4,5]\n",
    "m = l\n",
    "m.append(6)"
   ]
  },
  {
   "cell_type": "code",
   "execution_count": 10,
   "id": "61f204f6",
   "metadata": {},
   "outputs": [
    {
     "name": "stdout",
     "output_type": "stream",
     "text": [
      "[1, 2, 3, 4, 5, 6]\n",
      "[1, 2, 3, 4, 5, 6]\n"
     ]
    }
   ],
   "source": [
    "print(m)\n",
    "print(l)"
   ]
  },
  {
   "cell_type": "code",
   "execution_count": 15,
   "id": "6acc7804",
   "metadata": {},
   "outputs": [
    {
     "name": "stdout",
     "output_type": "stream",
     "text": [
      "[1, 2, 3, 4, 5, 6]\n"
     ]
    }
   ],
   "source": [
    "# but\n",
    "m = l.copy()\n",
    "m.append(7)\n",
    "print(l)"
   ]
  },
  {
   "cell_type": "code",
   "execution_count": 16,
   "id": "843218e5",
   "metadata": {},
   "outputs": [
    {
     "data": {
      "text/plain": [
       "1"
      ]
     },
     "execution_count": 16,
     "metadata": {},
     "output_type": "execute_result"
    }
   ],
   "source": [
    "# Count to count the no of repetation of an object\n",
    "\n",
    "l = [1,2,3,4,5]\n",
    "l.count(3)"
   ]
  },
  {
   "cell_type": "code",
   "execution_count": 20,
   "id": "99914efa",
   "metadata": {},
   "outputs": [
    {
     "name": "stdout",
     "output_type": "stream",
     "text": [
      "[1, 2, 3, 4, 5, 6, 7, 8, 9, 10]\n"
     ]
    }
   ],
   "source": [
    "k = list(range(1,11))\n",
    "print(k)"
   ]
  },
  {
   "cell_type": "code",
   "execution_count": 21,
   "id": "98f9256b",
   "metadata": {},
   "outputs": [
    {
     "data": {
      "text/plain": [
       "[1, 2, 3, 4, 5, [1, 2, 3]]"
      ]
     },
     "execution_count": 21,
     "metadata": {},
     "output_type": "execute_result"
    }
   ],
   "source": [
    "# append ,isl\n",
    "l = [1,2,3,4,5]\n",
    "l.append([1,2,3])\n",
    "l"
   ]
  },
  {
   "cell_type": "code",
   "execution_count": 29,
   "id": "37dd5a02",
   "metadata": {},
   "outputs": [
    {
     "data": {
      "text/plain": [
       "0"
      ]
     },
     "execution_count": 29,
     "metadata": {},
     "output_type": "execute_result"
    }
   ],
   "source": [
    "# index\n",
    "l = [1,2,3,4,5]\n",
    "l.index(1)"
   ]
  },
  {
   "cell_type": "code",
   "execution_count": null,
   "id": "c2eddd64",
   "metadata": {},
   "outputs": [],
   "source": []
  },
  {
   "cell_type": "code",
   "execution_count": null,
   "id": "48b29709",
   "metadata": {},
   "outputs": [],
   "source": []
  },
  {
   "cell_type": "code",
   "execution_count": null,
   "id": "463dd705",
   "metadata": {},
   "outputs": [],
   "source": []
  },
  {
   "cell_type": "code",
   "execution_count": 30,
   "id": "01dd90c2",
   "metadata": {},
   "outputs": [
    {
     "data": {
      "text/plain": [
       "0"
      ]
     },
     "execution_count": 30,
     "metadata": {},
     "output_type": "execute_result"
    }
   ],
   "source": [
    "l = [1,2,3,4,5,1,1]\n",
    "l.index(1)\n",
    "# give first only"
   ]
  },
  {
   "cell_type": "code",
   "execution_count": 34,
   "id": "beb64888",
   "metadata": {},
   "outputs": [
    {
     "name": "stdout",
     "output_type": "stream",
     "text": [
      "[1, 2, 8, 3, 4, 5]\n"
     ]
    }
   ],
   "source": [
    "# to add in any index\n",
    "\n",
    "l = [1,2,3,4,5]\n",
    "l.insert(2,8)\n",
    "print(l)\n",
    "\n",
    "# insert the value ahead of given index here 2 is index and 8 is value given"
   ]
  },
  {
   "cell_type": "code",
   "execution_count": 37,
   "id": "86e4ff0b",
   "metadata": {},
   "outputs": [
    {
     "name": "stdout",
     "output_type": "stream",
     "text": [
      "[1, 2, 3, 4]\n"
     ]
    }
   ],
   "source": [
    "# pop remove from last\n",
    "l = [1,2,3,4,5]\n",
    "l.pop()\n",
    "print(l)\n",
    "\n",
    "# pop only remove from -1 but when given index it remove the respective index"
   ]
  },
  {
   "cell_type": "code",
   "execution_count": 39,
   "id": "e5ddaf26",
   "metadata": {},
   "outputs": [
    {
     "name": "stdout",
     "output_type": "stream",
     "text": [
      "[1, 2, 4, 5]\n"
     ]
    }
   ],
   "source": [
    "# remove\n",
    "l = [1,2,3,4,5]\n",
    "l.remove(3)\n",
    "print(l)"
   ]
  },
  {
   "cell_type": "code",
   "execution_count": 40,
   "id": "66027d73",
   "metadata": {},
   "outputs": [
    {
     "ename": "ValueError",
     "evalue": "list.remove(x): x not in list",
     "output_type": "error",
     "traceback": [
      "\u001b[1;31m---------------------------------------------------------------------------\u001b[0m",
      "\u001b[1;31mValueError\u001b[0m                                Traceback (most recent call last)",
      "\u001b[1;32m~\\AppData\\Local\\Temp\\ipykernel_10864\\3574212289.py\u001b[0m in \u001b[0;36m<module>\u001b[1;34m\u001b[0m\n\u001b[0;32m      1\u001b[0m \u001b[0ml\u001b[0m \u001b[1;33m=\u001b[0m \u001b[1;33m[\u001b[0m\u001b[1;33m]\u001b[0m\u001b[1;33m\u001b[0m\u001b[1;33m\u001b[0m\u001b[0m\n\u001b[1;32m----> 2\u001b[1;33m \u001b[0ml\u001b[0m\u001b[1;33m.\u001b[0m\u001b[0mremove\u001b[0m\u001b[1;33m(\u001b[0m\u001b[1;36m8\u001b[0m\u001b[1;33m)\u001b[0m\u001b[1;33m\u001b[0m\u001b[1;33m\u001b[0m\u001b[0m\n\u001b[0m",
      "\u001b[1;31mValueError\u001b[0m: list.remove(x): x not in list"
     ]
    }
   ],
   "source": [
    "l = []\n",
    "l.remove(8)\n",
    "# (self, value) value is must"
   ]
  },
  {
   "cell_type": "code",
   "execution_count": 41,
   "id": "71f48728",
   "metadata": {},
   "outputs": [
    {
     "name": "stdout",
     "output_type": "stream",
     "text": [
      "[5, 4, 3, 2, 1]\n"
     ]
    }
   ],
   "source": [
    "# reverse\n",
    "l = [1,2,3,4,5]\n",
    "l.reverse()\n",
    "print(l)\n",
    "# it reverese original list"
   ]
  },
  {
   "cell_type": "code",
   "execution_count": 42,
   "id": "274770f4",
   "metadata": {},
   "outputs": [
    {
     "name": "stdout",
     "output_type": "stream",
     "text": [
      "[1, 2, 3, 3, 4, 45, 52, 67]\n"
     ]
    }
   ],
   "source": [
    "# sort in ascending\n",
    "\n",
    "l = [1,2,3,4,52,3,45,67]\n",
    "l.sort()\n",
    "print(l)"
   ]
  },
  {
   "cell_type": "code",
   "execution_count": 43,
   "id": "7922125c",
   "metadata": {},
   "outputs": [
    {
     "name": "stdout",
     "output_type": "stream",
     "text": [
      "[67, 52, 45, 4, 3, 3, 2, 1]\n"
     ]
    }
   ],
   "source": [
    "l = [1,2,3,4,52,3,45,67]\n",
    "l.sort(reverse=True)\n",
    "print(l)\n",
    "# sort in descending"
   ]
  },
  {
   "cell_type": "code",
   "execution_count": null,
   "id": "2bc0260a",
   "metadata": {},
   "outputs": [],
   "source": [
    "# List => mutable\n",
    "# number/string => immutable\n",
    "# tuple => immutable"
   ]
  },
  {
   "cell_type": "code",
   "execution_count": 44,
   "id": "f516f942",
   "metadata": {},
   "outputs": [
    {
     "name": "stdout",
     "output_type": "stream",
     "text": [
      "<class 'tuple'>\n"
     ]
    }
   ],
   "source": [
    "l = (1,2,3,4,5,6,7)\n",
    "print(type(l))"
   ]
  },
  {
   "cell_type": "code",
   "execution_count": 46,
   "id": "3b7325d7",
   "metadata": {},
   "outputs": [
    {
     "name": "stdout",
     "output_type": "stream",
     "text": [
      "<class 'tuple'>\n"
     ]
    }
   ],
   "source": [
    "x = ()\n",
    "print(type(x))"
   ]
  },
  {
   "cell_type": "code",
   "execution_count": 48,
   "id": "e6c365f2",
   "metadata": {},
   "outputs": [
    {
     "name": "stdout",
     "output_type": "stream",
     "text": [
      "<class 'tuple'>\n"
     ]
    }
   ],
   "source": [
    "x = tuple()\n",
    "print(type(x))\n",
    "\n",
    "# empty tuple"
   ]
  },
  {
   "cell_type": "code",
   "execution_count": 49,
   "id": "626149a1",
   "metadata": {},
   "outputs": [
    {
     "name": "stdout",
     "output_type": "stream",
     "text": [
      "Help on class tuple in module builtins:\n",
      "\n",
      "class tuple(object)\n",
      " |  tuple(iterable=(), /)\n",
      " |  \n",
      " |  Built-in immutable sequence.\n",
      " |  \n",
      " |  If no argument is given, the constructor returns an empty tuple.\n",
      " |  If iterable is specified the tuple is initialized from iterable's items.\n",
      " |  \n",
      " |  If the argument is a tuple, the return value is the same object.\n",
      " |  \n",
      " |  Built-in subclasses:\n",
      " |      asyncgen_hooks\n",
      " |      UnraisableHookArgs\n",
      " |  \n",
      " |  Methods defined here:\n",
      " |  \n",
      " |  __add__(self, value, /)\n",
      " |      Return self+value.\n",
      " |  \n",
      " |  __contains__(self, key, /)\n",
      " |      Return key in self.\n",
      " |  \n",
      " |  __eq__(self, value, /)\n",
      " |      Return self==value.\n",
      " |  \n",
      " |  __ge__(self, value, /)\n",
      " |      Return self>=value.\n",
      " |  \n",
      " |  __getattribute__(self, name, /)\n",
      " |      Return getattr(self, name).\n",
      " |  \n",
      " |  __getitem__(self, key, /)\n",
      " |      Return self[key].\n",
      " |  \n",
      " |  __getnewargs__(self, /)\n",
      " |  \n",
      " |  __gt__(self, value, /)\n",
      " |      Return self>value.\n",
      " |  \n",
      " |  __hash__(self, /)\n",
      " |      Return hash(self).\n",
      " |  \n",
      " |  __iter__(self, /)\n",
      " |      Implement iter(self).\n",
      " |  \n",
      " |  __le__(self, value, /)\n",
      " |      Return self<=value.\n",
      " |  \n",
      " |  __len__(self, /)\n",
      " |      Return len(self).\n",
      " |  \n",
      " |  __lt__(self, value, /)\n",
      " |      Return self<value.\n",
      " |  \n",
      " |  __mul__(self, value, /)\n",
      " |      Return self*value.\n",
      " |  \n",
      " |  __ne__(self, value, /)\n",
      " |      Return self!=value.\n",
      " |  \n",
      " |  __repr__(self, /)\n",
      " |      Return repr(self).\n",
      " |  \n",
      " |  __rmul__(self, value, /)\n",
      " |      Return value*self.\n",
      " |  \n",
      " |  count(self, value, /)\n",
      " |      Return number of occurrences of value.\n",
      " |  \n",
      " |  index(self, value, start=0, stop=9223372036854775807, /)\n",
      " |      Return first index of value.\n",
      " |      \n",
      " |      Raises ValueError if the value is not present.\n",
      " |  \n",
      " |  ----------------------------------------------------------------------\n",
      " |  Class methods defined here:\n",
      " |  \n",
      " |  __class_getitem__(...) from builtins.type\n",
      " |      See PEP 585\n",
      " |  \n",
      " |  ----------------------------------------------------------------------\n",
      " |  Static methods defined here:\n",
      " |  \n",
      " |  __new__(*args, **kwargs) from builtins.type\n",
      " |      Create and return a new object.  See help(type) for accurate signature.\n",
      "\n"
     ]
    }
   ],
   "source": [
    "help(tuple)"
   ]
  },
  {
   "cell_type": "code",
   "execution_count": 52,
   "id": "513490f0",
   "metadata": {},
   "outputs": [
    {
     "data": {
      "text/plain": [
       "0"
      ]
     },
     "execution_count": 52,
     "metadata": {},
     "output_type": "execute_result"
    }
   ],
   "source": [
    "#  we can count and find the index of tuple only\n",
    "l = (1,2,3,4,52,3,45,67)\n",
    "l.count(7)"
   ]
  },
  {
   "cell_type": "code",
   "execution_count": 53,
   "id": "7a164860",
   "metadata": {},
   "outputs": [
    {
     "data": {
      "text/plain": [
       "2"
      ]
     },
     "execution_count": 53,
     "metadata": {},
     "output_type": "execute_result"
    }
   ],
   "source": [
    "l.index(3)"
   ]
  },
  {
   "cell_type": "code",
   "execution_count": 54,
   "id": "f7cee4d6",
   "metadata": {},
   "outputs": [
    {
     "name": "stdout",
     "output_type": "stream",
     "text": [
      "<class 'int'>\n"
     ]
    }
   ],
   "source": [
    "x = (1)\n",
    "print(type(x))\n",
    "# its integers"
   ]
  },
  {
   "cell_type": "code",
   "execution_count": 55,
   "id": "24534b7b",
   "metadata": {},
   "outputs": [
    {
     "name": "stdout",
     "output_type": "stream",
     "text": [
      "<class 'tuple'>\n"
     ]
    }
   ],
   "source": [
    "x = (1,) #do this\n",
    "print(type(x))\n",
    "# its comma"
   ]
  },
  {
   "cell_type": "code",
   "execution_count": 57,
   "id": "feae3c7f",
   "metadata": {},
   "outputs": [
    {
     "name": "stdout",
     "output_type": "stream",
     "text": [
      "<class 'tuple'>\n"
     ]
    }
   ],
   "source": [
    "x = 1, #dont do this\n",
    "print(type(x))"
   ]
  },
  {
   "cell_type": "code",
   "execution_count": 60,
   "id": "0dda73f4",
   "metadata": {},
   "outputs": [
    {
     "name": "stdout",
     "output_type": "stream",
     "text": [
      "<class 'list'>\n"
     ]
    }
   ],
   "source": [
    "fruits = ['apple', 'mango', 'banana']\n",
    "# list has similar or homogenus data structures\n",
    "print(type(fruits))"
   ]
  },
  {
   "cell_type": "code",
   "execution_count": null,
   "id": "04009a55",
   "metadata": {},
   "outputs": [],
   "source": [
    "fruits = ['apple', 'mango', 'banana']"
   ]
  },
  {
   "cell_type": "code",
   "execution_count": 61,
   "id": "f6f27cab",
   "metadata": {},
   "outputs": [
    {
     "name": "stdout",
     "output_type": "stream",
     "text": [
      "<class 'tuple'>\n"
     ]
    }
   ],
   "source": [
    "person = (1, 'ram', 'ktm', 39, 234252) # it has  heterogenous data structures\n",
    "\n",
    "print(type(person))\n",
    "\n",
    "# list taie extra memory and its slow than tuple coz we can mutate the list but not tuple"
   ]
  },
  {
   "cell_type": "code",
   "execution_count": 62,
   "id": "218cc511",
   "metadata": {},
   "outputs": [
    {
     "name": "stdout",
     "output_type": "stream",
     "text": [
      "<class 'dict'>\n"
     ]
    }
   ],
   "source": [
    "# Dictionary\n",
    "\n",
    "person = { 'id':1, #key-value pair\n",
    "          \"name\":'ram', \n",
    "          \"address\":'ktm', \n",
    "          \"age\":39, \n",
    "          \"income\": 234252}\n",
    "print(type(person))\n",
    "# its always is in key value pair and seperated by comma"
   ]
  },
  {
   "cell_type": "code",
   "execution_count": 63,
   "id": "30c81677",
   "metadata": {},
   "outputs": [
    {
     "name": "stdout",
     "output_type": "stream",
     "text": [
      "ram\n"
     ]
    }
   ],
   "source": [
    "# to get specific value\n",
    "\n",
    "print(person['name'])"
   ]
  },
  {
   "cell_type": "code",
   "execution_count": 65,
   "id": "a2434fa1",
   "metadata": {},
   "outputs": [
    {
     "name": "stdout",
     "output_type": "stream",
     "text": [
      "{'id': 1, 'name': 'ram', 'address': 'ktm', 'age': 39, 'income': 234252, 'email': 'ram@gmail.com'}\n"
     ]
    }
   ],
   "source": [
    "person = { 'id':1, #key-value pair\n",
    "          \"name\":'ram', \n",
    "          \"address\":'ktm', \n",
    "          \"age\":39, \n",
    "          \"income\": 234252}\n",
    "# to add new\n",
    "person['email'] = 'ram@gmail.com'\n",
    "print(person)"
   ]
  },
  {
   "cell_type": "code",
   "execution_count": 67,
   "id": "7383c34a",
   "metadata": {},
   "outputs": [
    {
     "name": "stdout",
     "output_type": "stream",
     "text": [
      "{'id': 1, 'name': 'ram', 'address': 'ktm', 'age': 39, 'income': '9868365688', 'email': 'ram@gmail.com'}\n"
     ]
    }
   ],
   "source": [
    "# to change specific valeu\n",
    "\n",
    "person['income'] = '9868365688'\n",
    "print(person)"
   ]
  },
  {
   "cell_type": "code",
   "execution_count": 70,
   "id": "a67c83e6",
   "metadata": {},
   "outputs": [
    {
     "ename": "KeyError",
     "evalue": "'income'",
     "output_type": "error",
     "traceback": [
      "\u001b[1;31m---------------------------------------------------------------------------\u001b[0m",
      "\u001b[1;31mKeyError\u001b[0m                                  Traceback (most recent call last)",
      "\u001b[1;32m~\\AppData\\Local\\Temp\\ipykernel_10864\\3165609861.py\u001b[0m in \u001b[0;36m<module>\u001b[1;34m\u001b[0m\n\u001b[0;32m      1\u001b[0m \u001b[1;31m#  to delete smth\u001b[0m\u001b[1;33m\u001b[0m\u001b[1;33m\u001b[0m\u001b[0m\n\u001b[0;32m      2\u001b[0m \u001b[1;33m\u001b[0m\u001b[0m\n\u001b[1;32m----> 3\u001b[1;33m \u001b[1;32mdel\u001b[0m \u001b[0mperson\u001b[0m\u001b[1;33m[\u001b[0m\u001b[1;34m'income'\u001b[0m\u001b[1;33m]\u001b[0m\u001b[1;33m\u001b[0m\u001b[1;33m\u001b[0m\u001b[0m\n\u001b[0m\u001b[0;32m      4\u001b[0m \u001b[1;33m\u001b[0m\u001b[0m\n\u001b[0;32m      5\u001b[0m \u001b[0mprint\u001b[0m\u001b[1;33m(\u001b[0m\u001b[0mperson\u001b[0m\u001b[1;33m)\u001b[0m\u001b[1;33m\u001b[0m\u001b[1;33m\u001b[0m\u001b[0m\n",
      "\u001b[1;31mKeyError\u001b[0m: 'income'"
     ]
    }
   ],
   "source": [
    "#  to delete smth\n",
    "\n",
    "del person['income']\n",
    "\n",
    "print(person)"
   ]
  },
  {
   "cell_type": "code",
   "execution_count": 71,
   "id": "bfda6c43",
   "metadata": {},
   "outputs": [
    {
     "name": "stdout",
     "output_type": "stream",
     "text": [
      "{'id': 1, 'name': 'ram', 'address': 'ktm', 'age': 39, 'email': 'ram@gmail.com'}\n"
     ]
    }
   ],
   "source": [
    "print(person)"
   ]
  },
  {
   "cell_type": "code",
   "execution_count": 72,
   "id": "59dec6d6",
   "metadata": {},
   "outputs": [
    {
     "name": "stdout",
     "output_type": "stream",
     "text": [
      "Help on class dict in module builtins:\n",
      "\n",
      "class dict(object)\n",
      " |  dict() -> new empty dictionary\n",
      " |  dict(mapping) -> new dictionary initialized from a mapping object's\n",
      " |      (key, value) pairs\n",
      " |  dict(iterable) -> new dictionary initialized as if via:\n",
      " |      d = {}\n",
      " |      for k, v in iterable:\n",
      " |          d[k] = v\n",
      " |  dict(**kwargs) -> new dictionary initialized with the name=value pairs\n",
      " |      in the keyword argument list.  For example:  dict(one=1, two=2)\n",
      " |  \n",
      " |  Built-in subclasses:\n",
      " |      StgDict\n",
      " |  \n",
      " |  Methods defined here:\n",
      " |  \n",
      " |  __contains__(self, key, /)\n",
      " |      True if the dictionary has the specified key, else False.\n",
      " |  \n",
      " |  __delitem__(self, key, /)\n",
      " |      Delete self[key].\n",
      " |  \n",
      " |  __eq__(self, value, /)\n",
      " |      Return self==value.\n",
      " |  \n",
      " |  __ge__(self, value, /)\n",
      " |      Return self>=value.\n",
      " |  \n",
      " |  __getattribute__(self, name, /)\n",
      " |      Return getattr(self, name).\n",
      " |  \n",
      " |  __getitem__(...)\n",
      " |      x.__getitem__(y) <==> x[y]\n",
      " |  \n",
      " |  __gt__(self, value, /)\n",
      " |      Return self>value.\n",
      " |  \n",
      " |  __init__(self, /, *args, **kwargs)\n",
      " |      Initialize self.  See help(type(self)) for accurate signature.\n",
      " |  \n",
      " |  __ior__(self, value, /)\n",
      " |      Return self|=value.\n",
      " |  \n",
      " |  __iter__(self, /)\n",
      " |      Implement iter(self).\n",
      " |  \n",
      " |  __le__(self, value, /)\n",
      " |      Return self<=value.\n",
      " |  \n",
      " |  __len__(self, /)\n",
      " |      Return len(self).\n",
      " |  \n",
      " |  __lt__(self, value, /)\n",
      " |      Return self<value.\n",
      " |  \n",
      " |  __ne__(self, value, /)\n",
      " |      Return self!=value.\n",
      " |  \n",
      " |  __or__(self, value, /)\n",
      " |      Return self|value.\n",
      " |  \n",
      " |  __repr__(self, /)\n",
      " |      Return repr(self).\n",
      " |  \n",
      " |  __reversed__(self, /)\n",
      " |      Return a reverse iterator over the dict keys.\n",
      " |  \n",
      " |  __ror__(self, value, /)\n",
      " |      Return value|self.\n",
      " |  \n",
      " |  __setitem__(self, key, value, /)\n",
      " |      Set self[key] to value.\n",
      " |  \n",
      " |  __sizeof__(...)\n",
      " |      D.__sizeof__() -> size of D in memory, in bytes\n",
      " |  \n",
      " |  clear(...)\n",
      " |      D.clear() -> None.  Remove all items from D.\n",
      " |  \n",
      " |  copy(...)\n",
      " |      D.copy() -> a shallow copy of D\n",
      " |  \n",
      " |  get(self, key, default=None, /)\n",
      " |      Return the value for key if key is in the dictionary, else default.\n",
      " |  \n",
      " |  items(...)\n",
      " |      D.items() -> a set-like object providing a view on D's items\n",
      " |  \n",
      " |  keys(...)\n",
      " |      D.keys() -> a set-like object providing a view on D's keys\n",
      " |  \n",
      " |  pop(...)\n",
      " |      D.pop(k[,d]) -> v, remove specified key and return the corresponding value.\n",
      " |      \n",
      " |      If key is not found, default is returned if given, otherwise KeyError is raised\n",
      " |  \n",
      " |  popitem(self, /)\n",
      " |      Remove and return a (key, value) pair as a 2-tuple.\n",
      " |      \n",
      " |      Pairs are returned in LIFO (last-in, first-out) order.\n",
      " |      Raises KeyError if the dict is empty.\n",
      " |  \n",
      " |  setdefault(self, key, default=None, /)\n",
      " |      Insert key with a value of default if key is not in the dictionary.\n",
      " |      \n",
      " |      Return the value for key if key is in the dictionary, else default.\n",
      " |  \n",
      " |  update(...)\n",
      " |      D.update([E, ]**F) -> None.  Update D from dict/iterable E and F.\n",
      " |      If E is present and has a .keys() method, then does:  for k in E: D[k] = E[k]\n",
      " |      If E is present and lacks a .keys() method, then does:  for k, v in E: D[k] = v\n",
      " |      In either case, this is followed by: for k in F:  D[k] = F[k]\n",
      " |  \n",
      " |  values(...)\n",
      " |      D.values() -> an object providing a view on D's values\n",
      " |  \n",
      " |  ----------------------------------------------------------------------\n",
      " |  Class methods defined here:\n",
      " |  \n",
      " |  __class_getitem__(...) from builtins.type\n",
      " |      See PEP 585\n",
      " |  \n",
      " |  fromkeys(iterable, value=None, /) from builtins.type\n",
      " |      Create a new dictionary with keys from iterable and values set to value.\n",
      " |  \n",
      " |  ----------------------------------------------------------------------\n",
      " |  Static methods defined here:\n",
      " |  \n",
      " |  __new__(*args, **kwargs) from builtins.type\n",
      " |      Create and return a new object.  See help(type) for accurate signature.\n",
      " |  \n",
      " |  ----------------------------------------------------------------------\n",
      " |  Data and other attributes defined here:\n",
      " |  \n",
      " |  __hash__ = None\n",
      "\n"
     ]
    }
   ],
   "source": [
    "help(dict)"
   ]
  },
  {
   "cell_type": "code",
   "execution_count": 75,
   "id": "343991e2",
   "metadata": {},
   "outputs": [
    {
     "name": "stdout",
     "output_type": "stream",
     "text": [
      "{'id': 1, 'name': 'ram', 'address': 'ktm', 'age': 39, 'income': 234252, 'email': 'kerabari@gmail.com'}\n"
     ]
    }
   ],
   "source": [
    "person1 = { 'id':1, #key-value pair\n",
    "          \"name\":'ram', \n",
    "          \"address\":'ktm', \n",
    "          \"age\":39, \n",
    "          \"income\": 234252}\n",
    "person2 = person1\n",
    "\n",
    "person1['email'] = \"kerabari@gmail.com\"\n",
    "print(person2)\n",
    "# hence we have to use copy\n",
    "\n"
   ]
  },
  {
   "cell_type": "code",
   "execution_count": 76,
   "id": "5835b497",
   "metadata": {},
   "outputs": [
    {
     "ename": "KeyError",
     "evalue": "'hello'",
     "output_type": "error",
     "traceback": [
      "\u001b[1;31m---------------------------------------------------------------------------\u001b[0m",
      "\u001b[1;31mKeyError\u001b[0m                                  Traceback (most recent call last)",
      "\u001b[1;32m~\\AppData\\Local\\Temp\\ipykernel_10864\\1722938373.py\u001b[0m in \u001b[0;36m<module>\u001b[1;34m\u001b[0m\n\u001b[1;32m----> 1\u001b[1;33m \u001b[0mperson\u001b[0m\u001b[1;33m[\u001b[0m\u001b[1;34m'hello'\u001b[0m\u001b[1;33m]\u001b[0m\u001b[1;33m\u001b[0m\u001b[1;33m\u001b[0m\u001b[0m\n\u001b[0m",
      "\u001b[1;31mKeyError\u001b[0m: 'hello'"
     ]
    }
   ],
   "source": [
    "person['hello']\n",
    "# becoz its not there"
   ]
  },
  {
   "cell_type": "code",
   "execution_count": 78,
   "id": "00b0f2ce",
   "metadata": {},
   "outputs": [
    {
     "name": "stdout",
     "output_type": "stream",
     "text": [
      "dict_values([1, 'ram', 'ktm', 39, 'kerabari@gmail.com'])\n"
     ]
    }
   ],
   "source": [
    "# to call only value & keys\n",
    "print(person.values())"
   ]
  },
  {
   "cell_type": "code",
   "execution_count": 80,
   "id": "336becdf",
   "metadata": {},
   "outputs": [
    {
     "name": "stdout",
     "output_type": "stream",
     "text": [
      "dict_keys(['id', 'name', 'address', 'age', 'income'])\n"
     ]
    }
   ],
   "source": [
    "person = { 'id':1, #key-value pair\n",
    "          \"name\":'ram', \n",
    "          \"address\":'ktm', \n",
    "          \"age\":39, \n",
    "          \"income\": 234252}\n",
    "\n",
    "\n",
    "print(person.keys())"
   ]
  },
  {
   "cell_type": "code",
   "execution_count": 81,
   "id": "39119e1d",
   "metadata": {},
   "outputs": [
    {
     "name": "stdout",
     "output_type": "stream",
     "text": [
      "dict_items([('id', 1), ('name', 'ram'), ('address', 'ktm'), ('age', 39), ('income', 234252)])\n"
     ]
    }
   ],
   "source": [
    "# to access both\n",
    "\n",
    "person = { 'id':1, #key-value pair\n",
    "          \"name\":'ram', \n",
    "          \"address\":'ktm', \n",
    "          \"age\":39, \n",
    "          \"income\": 234252}\n",
    "print(person.items())"
   ]
  },
  {
   "cell_type": "code",
   "execution_count": 84,
   "id": "691df89e",
   "metadata": {},
   "outputs": [
    {
     "ename": "KeyError",
     "evalue": "'id'",
     "output_type": "error",
     "traceback": [
      "\u001b[1;31m---------------------------------------------------------------------------\u001b[0m",
      "\u001b[1;31mKeyError\u001b[0m                                  Traceback (most recent call last)",
      "\u001b[1;32m~\\AppData\\Local\\Temp\\ipykernel_10864\\1776385860.py\u001b[0m in \u001b[0;36m<module>\u001b[1;34m\u001b[0m\n\u001b[0;32m      1\u001b[0m \u001b[1;31m#\u001b[0m\u001b[1;33m\u001b[0m\u001b[1;33m\u001b[0m\u001b[0m\n\u001b[1;32m----> 2\u001b[1;33m \u001b[0mprint\u001b[0m\u001b[1;33m(\u001b[0m\u001b[0mperson\u001b[0m\u001b[1;33m.\u001b[0m\u001b[0mpop\u001b[0m\u001b[1;33m(\u001b[0m\u001b[1;34m'id'\u001b[0m\u001b[1;33m)\u001b[0m\u001b[1;33m)\u001b[0m\u001b[1;33m\u001b[0m\u001b[1;33m\u001b[0m\u001b[0m\n\u001b[0m\u001b[0;32m      3\u001b[0m \u001b[1;33m\u001b[0m\u001b[0m\n\u001b[0;32m      4\u001b[0m \u001b[0mprint\u001b[0m\u001b[1;33m(\u001b[0m\u001b[0mperson\u001b[0m\u001b[1;33m)\u001b[0m\u001b[1;33m\u001b[0m\u001b[1;33m\u001b[0m\u001b[0m\n",
      "\u001b[1;31mKeyError\u001b[0m: 'id'"
     ]
    }
   ],
   "source": [
    "# \n",
    "print(person.pop('id'))\n",
    "\n",
    "print(person)"
   ]
  },
  {
   "cell_type": "code",
   "execution_count": 86,
   "id": "2f44fcf8",
   "metadata": {},
   "outputs": [
    {
     "data": {
      "text/plain": [
       "('income', 234252)"
      ]
     },
     "execution_count": 86,
     "metadata": {},
     "output_type": "execute_result"
    }
   ],
   "source": [
    "person1 = { 'id':1, #key-value pair\n",
    "          \"name\":'ram', \n",
    "          \"address\":'ktm', \n",
    "          \"age\":39, \n",
    "          \"income\": 234252}\n",
    "person1.popitem()\n",
    "# pop the last item"
   ]
  },
  {
   "cell_type": "code",
   "execution_count": 87,
   "id": "ad577d1f",
   "metadata": {},
   "outputs": [
    {
     "name": "stdout",
     "output_type": "stream",
     "text": [
      "{'id': 1, 'name': 'ram', 'address': 'ktm', 'age': 39}\n"
     ]
    }
   ],
   "source": [
    "print(person1)"
   ]
  },
  {
   "cell_type": "code",
   "execution_count": 89,
   "id": "7467cf0f",
   "metadata": {},
   "outputs": [
    {
     "name": "stdout",
     "output_type": "stream",
     "text": [
      "{'id': 1, 'name': 'ram', 'address': 'ktm', 'age': 39, 'income': 234252}\n"
     ]
    }
   ],
   "source": [
    "person1 = { 'id':1, #key-value pair\n",
    "          \"name\":'ram', \n",
    "          }\n",
    "person2 = {\n",
    "    \"address\":'ktm', \n",
    "          \"age\":39, \n",
    "          \"income\": 234252\n",
    "}\n",
    "person1.update(person2)\n",
    "print(person1)"
   ]
  },
  {
   "cell_type": "code",
   "execution_count": 91,
   "id": "409ecb98",
   "metadata": {},
   "outputs": [
    {
     "name": "stdout",
     "output_type": "stream",
     "text": [
      "{'id': 1, 'name': 'ram', 'address': 'ktm', 'age': 39, 'income': 234252, 'email': 'ram@gmail.com'}\n"
     ]
    }
   ],
   "source": [
    "person = { 'id':1, #key-value pair\n",
    "          \"name\":'ram', \n",
    "          \"address\":'ktm', \n",
    "          \"age\":39, \n",
    "          \"income\": 234252}\n",
    "# person['email'] = 'ram@gmail.com'\n",
    "\n",
    "person.update({\"email\": \"ram@gmail.com\"})\n",
    "print(person)"
   ]
  },
  {
   "cell_type": "code",
   "execution_count": 98,
   "id": "834baca1",
   "metadata": {},
   "outputs": [
    {
     "name": "stdout",
     "output_type": "stream",
     "text": [
      "None\n"
     ]
    }
   ],
   "source": [
    "person1 = { 'id':1, #key-value pair\n",
    "          \"name\":'ram', \n",
    "          \"address\":'ktm', \n",
    "          \"age\":39, \n",
    "          \"income\": 234252}\n",
    "# person1['email']\n",
    "# to remove this email\n",
    "\n",
    "print(person1.get('email'))"
   ]
  },
  {
   "cell_type": "code",
   "execution_count": 99,
   "id": "fcd9792a",
   "metadata": {},
   "outputs": [
    {
     "name": "stdout",
     "output_type": "stream",
     "text": [
      "ram\n"
     ]
    }
   ],
   "source": [
    "print(person1.get('name'))"
   ]
  },
  {
   "cell_type": "code",
   "execution_count": 102,
   "id": "95122ecb",
   "metadata": {},
   "outputs": [
    {
     "name": "stdout",
     "output_type": "stream",
     "text": [
      "ram@gmail.com\n"
     ]
    }
   ],
   "source": [
    "# if there is no value the return\n",
    "person1 = { 'id':1, #key-value pair\n",
    "          \"name\":'ram', \n",
    "          \"address\":'ktm', \n",
    "          \"age\":39, \n",
    "          \"income\": 234252}\n",
    "print(person1.get('email', 'ram@gmail.com'))"
   ]
  },
  {
   "cell_type": "code",
   "execution_count": 103,
   "id": "ad66c5ba",
   "metadata": {},
   "outputs": [
    {
     "name": "stdout",
     "output_type": "stream",
     "text": [
      "ram1@gmail.com\n"
     ]
    }
   ],
   "source": [
    "person1 = { 'id':1, #key-value pair\n",
    "          \"name\":'ram', \n",
    "          \"address\":'ktm', \n",
    "          \"age\":39, \n",
    "          \"income\": 234252,\n",
    "          'email': 'ram1@gmail.com'}\n",
    "print(person1.get('email', 'ram@gmail.com'))\n",
    "# if there is value then it returns original value"
   ]
  },
  {
   "cell_type": "code",
   "execution_count": 105,
   "id": "a70442a2",
   "metadata": {},
   "outputs": [
    {
     "name": "stdout",
     "output_type": "stream",
     "text": [
      "ram@gmail.com\n",
      "{'id': 1, 'name': 'ram', 'address': 'ktm', 'age': 39, 'income': 234252, 'email': 'ram@gmail.com'}\n"
     ]
    }
   ],
   "source": [
    "# to add directly to the dict\n",
    "\n",
    "person1 = { 'id':1, #key-value pair\n",
    "          \"name\":'ram', \n",
    "          \"address\":'ktm', \n",
    "          \"age\":39, \n",
    "          \"income\": 234252}\n",
    "print(person1.setdefault('email', 'ram@gmail.com'))\n",
    "print(person1)"
   ]
  },
  {
   "cell_type": "code",
   "execution_count": 106,
   "id": "b21743a8",
   "metadata": {},
   "outputs": [
    {
     "name": "stdout",
     "output_type": "stream",
     "text": [
      "{} <class 'dict'>\n"
     ]
    }
   ],
   "source": [
    "x = {} #empty\n",
    "print(x, type(x))"
   ]
  },
  {
   "cell_type": "code",
   "execution_count": 107,
   "id": "571771ed",
   "metadata": {},
   "outputs": [
    {
     "name": "stdout",
     "output_type": "stream",
     "text": [
      "{1, 2.5, 'hello', 7, 'hi', 'ram'}\n"
     ]
    }
   ],
   "source": [
    "x = {'ram', 1, \"hello\", 2.5,7, 'hi'}\n",
    "print(x)\n",
    "# gives random"
   ]
  },
  {
   "cell_type": "code",
   "execution_count": 109,
   "id": "ee37ca09",
   "metadata": {},
   "outputs": [
    {
     "name": "stdout",
     "output_type": "stream",
     "text": [
      "{} <class 'dict'>\n"
     ]
    }
   ],
   "source": [
    "x = dict()\n",
    "print(x, type(x))"
   ]
  },
  {
   "cell_type": "code",
   "execution_count": 111,
   "id": "41079335",
   "metadata": {},
   "outputs": [
    {
     "name": "stdout",
     "output_type": "stream",
     "text": [
      "{1, 2.5, 'hello', 9.5, 'hi', 'ram'}\n"
     ]
    }
   ],
   "source": [
    "# set\n",
    "x = {'ram', 1, 'hello', 2.5, 9.5, 'hi'}\n",
    "print(x)"
   ]
  },
  {
   "cell_type": "code",
   "execution_count": null,
   "id": "fd87665d",
   "metadata": {},
   "outputs": [],
   "source": [
    "# unorder collections\n",
    "# unique collection of items\n",
    "\n",
    "x = {'ram', 1, 'hello', 2.5, 7, 9.5, 'hi'}\n"
   ]
  },
  {
   "cell_type": "code",
   "execution_count": null,
   "id": "219fa0f5",
   "metadata": {},
   "outputs": [],
   "source": []
  },
  {
   "cell_type": "code",
   "execution_count": null,
   "id": "be39215c",
   "metadata": {},
   "outputs": [],
   "source": []
  },
  {
   "cell_type": "code",
   "execution_count": null,
   "id": "4c401cb6",
   "metadata": {},
   "outputs": [],
   "source": []
  },
  {
   "cell_type": "code",
   "execution_count": null,
   "id": "ada52011",
   "metadata": {},
   "outputs": [],
   "source": []
  },
  {
   "cell_type": "code",
   "execution_count": null,
   "id": "710f1592",
   "metadata": {},
   "outputs": [],
   "source": []
  },
  {
   "cell_type": "code",
   "execution_count": null,
   "id": "f7334bc1",
   "metadata": {},
   "outputs": [],
   "source": []
  }
 ],
 "metadata": {
  "kernelspec": {
   "display_name": "Python 3 (ipykernel)",
   "language": "python",
   "name": "python3"
  },
  "language_info": {
   "codemirror_mode": {
    "name": "ipython",
    "version": 3
   },
   "file_extension": ".py",
   "mimetype": "text/x-python",
   "name": "python",
   "nbconvert_exporter": "python",
   "pygments_lexer": "ipython3",
   "version": "3.9.13"
  }
 },
 "nbformat": 4,
 "nbformat_minor": 5
}
